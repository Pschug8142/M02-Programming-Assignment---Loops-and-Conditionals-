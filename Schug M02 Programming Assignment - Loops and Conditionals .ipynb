{
 "cells": [
  {
   "cell_type": "code",
   "execution_count": 2,
   "id": "1333c3fc",
   "metadata": {},
   "outputs": [
    {
     "name": "stdout",
     "output_type": "stream",
     "text": [
      "too low\n"
     ]
    }
   ],
   "source": [
    "#4.1\n",
    "secret =  6\n",
    "guess = 5\n",
    "\n",
    "#comparing the secret number and the guess to see if the guess was under / too low\n",
    "if secret > guess: \n",
    "    print(\"too low\")\n",
    "    \n",
    "#comparing the secret number and the guess to see if the guess was above / too high\n",
    "elif secret < guess:\n",
    "    print(\"too high\")\n",
    "    \n",
    "#comparing the secret number and the guess to see if the guess was equal / just right\n",
    "elif secret == guess:\n",
    "    print(\"just right\")"
   ]
  },
  {
   "cell_type": "code",
   "execution_count": 6,
   "id": "1a035857",
   "metadata": {},
   "outputs": [
    {
     "name": "stdout",
     "output_type": "stream",
     "text": [
      "Cherry\n"
     ]
    }
   ],
   "source": [
    "#4.2\n",
    "small = True\n",
    "green = False\n",
    "\n",
    "#checking if description matches pea\n",
    "if small and green:\n",
    "    print(\"Pea\")\n",
    "#checking if description matches cherry\n",
    "if small and not green:\n",
    "    print(\"Cherry\")\n",
    "#checking if description matches watermelon\n",
    "if not small and green:\n",
    "    print(\"Watermelon\")\n",
    "#checking if description matches pumpkin\n",
    "if not small and not green:\n",
    "    print(\"Pumpkin\")"
   ]
  },
  {
   "cell_type": "code",
   "execution_count": 21,
   "id": "f04a86dc",
   "metadata": {},
   "outputs": [
    {
     "name": "stdout",
     "output_type": "stream",
     "text": [
      "3\n",
      "2\n",
      "1\n",
      "0\n"
     ]
    }
   ],
   "source": [
    "#6.1\n",
    "#setting up list\n",
    "numberList = [3, 2, 1, 0]\n",
    "#iterating over list values, printing as we go\n",
    "for x in numberList:\n",
    "    print(x)\n"
   ]
  },
  {
   "cell_type": "code",
   "execution_count": 34,
   "id": "294d00ac",
   "metadata": {},
   "outputs": [
    {
     "name": "stdout",
     "output_type": "stream",
     "text": [
      "Type in a guess between 0 and 10! \n",
      "7\n",
      "found it!\n"
     ]
    }
   ],
   "source": [
    "#6.2\n",
    "guess_me = 7\n",
    "number = 1\n",
    "\n",
    "#infinite while loop to allow for an infinite amount of attempts.\n",
    "while guess_me == 7:\n",
    "    #user input cast to int and assigned as new number\n",
    "    number = int(input(\"Type in a guess between 0 and 10! \\n\"))\n",
    "    #check if guess is greater than secret number\n",
    "    if number > guess_me:\n",
    "        print(\"too high\")\n",
    "    #check if guess is less than secret number\n",
    "    elif number < guess_me:\n",
    "        print(\"too low\")\n",
    "    #check if guess is equal to secret number. A break statement is included to exit the while loop.\n",
    "    elif number == guess_me:\n",
    "        print(\"found it!\")\n",
    "        break\n",
    "        "
   ]
  },
  {
   "cell_type": "code",
   "execution_count": 35,
   "id": "c84c8d14",
   "metadata": {},
   "outputs": [
    {
     "name": "stdout",
     "output_type": "stream",
     "text": [
      "0 is too low\n",
      "1 is too low\n",
      "2 is too low\n",
      "3 is too low\n",
      "4 is too low\n",
      "found it!\n",
      "oops\n",
      "oops\n",
      "oops\n",
      "oops\n"
     ]
    }
   ],
   "source": [
    "#6.3\n",
    "guess_me = 5\n",
    "number = range(10)\n",
    "\n",
    "#for loop that iterates through the range of number, assigning to x as it goes\n",
    "for x in number:\n",
    "    #checking if x less than secret number\n",
    "    if x < guess_me:\n",
    "        print (x, \"is too low\")\n",
    "        #checking if x is equal to secret number\n",
    "    elif x == guess_me:\n",
    "        print (\"found it!\")\n",
    "        #checking if x is greater than secret number\n",
    "    elif x > guess_me:\n",
    "        print(\"oops\")"
   ]
  },
  {
   "cell_type": "code",
   "execution_count": null,
   "id": "d429303f",
   "metadata": {},
   "outputs": [],
   "source": []
  }
 ],
 "metadata": {
  "kernelspec": {
   "display_name": "Python 3 (ipykernel)",
   "language": "python",
   "name": "python3"
  },
  "language_info": {
   "codemirror_mode": {
    "name": "ipython",
    "version": 3
   },
   "file_extension": ".py",
   "mimetype": "text/x-python",
   "name": "python",
   "nbconvert_exporter": "python",
   "pygments_lexer": "ipython3",
   "version": "3.11.5"
  }
 },
 "nbformat": 4,
 "nbformat_minor": 5
}
